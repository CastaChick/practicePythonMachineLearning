{
 "cells": [
  {
   "cell_type": "markdown",
   "metadata": {},
   "source": [
    "# 第3章 scikit-learnの活用\n",
    "<div style=\"text-align: right;\">date: 2019/06/08~</div>"
   ]
  },
  {
   "cell_type": "code",
   "execution_count": 1,
   "metadata": {},
   "outputs": [],
   "source": [
    "%matplotlib inline\n",
    "from matplotlib import pyplot as plt\n",
    "import numpy as np\n",
    "from sklearn import datasets\n",
    "from sklearn.model_selection import train_test_split\n",
    "from sklearn.preprocessing import StandardScaler\n",
    "from sklearn.linear_model import Perceptron, LogisticRegression\n",
    "from sklearn.metrics import accuracy_score\n",
    "from decisionPlot import plot_decision_regions"
   ]
  },
  {
   "cell_type": "markdown",
   "metadata": {},
   "source": [
    "## 1. scikit-learnを用いたパーセプトロンのトレーニング"
   ]
  },
  {
   "cell_type": "markdown",
   "metadata": {},
   "source": [
    "### 1. データセットのロード\n",
    "scikit-learnのデータベースからIrisデータセットをロードし、がくの長さと幅を特徴量として抽出する。"
   ]
  },
  {
   "cell_type": "code",
   "execution_count": 2,
   "metadata": {},
   "outputs": [
    {
     "name": "stdout",
     "output_type": "stream",
     "text": [
      "X shape:  (150, 2)\n",
      "Class labels: [0 1 2]\n"
     ]
    }
   ],
   "source": [
    "# データセットのロード\n",
    "iris = datasets.load_iris()\n",
    "# 3, 4行目を抽出し特徴行列Xとする\n",
    "X = iris.data[:, [2, 3]]\n",
    "# クラスラベルを取得\n",
    "y = iris.target\n",
    "# 特徴量行列の形状を確認\n",
    "print(\"X shape: \", X.shape)\n",
    "# クラスラベルが整数化されていることを確認\n",
    "print(\"Class labels:\", np.unique(y))"
   ]
  },
  {
   "cell_type": "markdown",
   "metadata": {},
   "source": [
    "### 2. データセットの前処理\n",
    "モデルの性能を評価するためにデータセットをトレーニングデータセットとテストデータセットに分割する。\n",
    "scikit-learnの`model_selection.train_test_split`を用いて分割を行う。"
   ]
  },
  {
   "cell_type": "code",
   "execution_count": 3,
   "metadata": {},
   "outputs": [],
   "source": [
    "# 全体の30%をテストデータとする\n",
    "X_train, X_test, y_train, y_test = train_test_split(\n",
    "X, y, test_size = 0.3, random_state = 1)"
   ]
  },
  {
   "cell_type": "markdown",
   "metadata": {},
   "source": [
    "最適な性能を得るために特徴量のスケーリングを行う。トレーニングデータセットから特徴量の平均$\\mu$\n",
    "と標準偏差$\\sigma$を推定し、これを用いてトレーニングデータ、テストデータの両方をスケーリングする。トレーニングデータセットとテストデータセットを相互に比較できるようにするために同じパラメータを用いて標準化している。"
   ]
  },
  {
   "cell_type": "markdown",
   "metadata": {},
   "source": [
    "$$\n",
    "x'_{j} = \\frac{x_{j} - \\mu_{j}}{\\sigma_{j}}\n",
    "$$"
   ]
  },
  {
   "cell_type": "markdown",
   "metadata": {},
   "source": [
    "scikit-learnでは`preprocessing`モジュールの`StandardScaler`クラスを使用して標準化を行う。"
   ]
  },
  {
   "cell_type": "code",
   "execution_count": 4,
   "metadata": {},
   "outputs": [
    {
     "name": "stdout",
     "output_type": "stream",
     "text": [
      "Mean of X_train:  [3.73809524 1.19047619]\n",
      "Std of X_train:  [1.78012204 0.77931885]\n",
      "Mean of X_train_std:  [ 2.11471052e-17 -5.96348368e-16]\n",
      "Std of X_train_std:  [1. 1.]\n",
      "Mean of X_test:  [3.80444444 1.22      ]\n",
      "Std of X_test:  [1.70918506 0.71136801]\n",
      "Mean of X_test_std:  [0.03727228 0.03788412]\n",
      "Std of X_test_std:  [0.9601505 0.9128074]\n"
     ]
    }
   ],
   "source": [
    "sc = StandardScaler()  # StandardScalerクラスの新しいインスタンスscを作成\n",
    "sc.fit(X_train)  # トレーニングデータセットを使って平均と標準偏差を推定\n",
    "# 推定した平均と標準偏差を用いてデータセットを標準化\n",
    "X_train_std = sc.transform(X_train)\n",
    "X_test_std = sc.transform(X_test)\n",
    "# 各データの標準化を確認\n",
    "print(\"Mean of X_train: \", np.mean(X_train, axis = 0))\n",
    "print(\"Std of X_train: \", np.std(X_train, axis = 0))\n",
    "print(\"Mean of X_train_std: \", np.mean(X_train_std, axis = 0))\n",
    "print(\"Std of X_train_std: \", np.std(X_train_std, axis = 0))\n",
    "print(\"Mean of X_test: \", np.mean(X_test, axis = 0))\n",
    "print(\"Std of X_test: \", np.std(X_test, axis = 0))\n",
    "print(\"Mean of X_test_std: \", np.mean(X_test_std, axis = 0))\n",
    "print(\"Std of X_test_std: \", np.std(X_test_std, axis = 0))"
   ]
  },
  {
   "cell_type": "markdown",
   "metadata": {},
   "source": [
    "標準化した後のデータセットは$ \\mu_{j} \\approx 0$ , $\\sigma_{j} \\approx 1$ となっていることがわかる。"
   ]
  },
  {
   "cell_type": "markdown",
   "metadata": {},
   "source": [
    "### 3. モデルのトレーニング\n",
    "scikit-learnのほとんどのアルゴリズムでは多クラス分類がサポートされている。**一対多**(OvR)の手法が取られており、3つの品種のクラスをまとめてパーセプトロンに与えて分類を行うことができる。"
   ]
  },
  {
   "cell_type": "code",
   "execution_count": 5,
   "metadata": {
    "scrolled": true
   },
   "outputs": [
    {
     "name": "stderr",
     "output_type": "stream",
     "text": [
      "/usr/local/lib/python3.7/site-packages/sklearn/linear_model/stochastic_gradient.py:561: ConvergenceWarning: Maximum number of iteration reached before convergence. Consider increasing max_iter to improve the fit.\n",
      "  ConvergenceWarning)\n"
     ]
    },
    {
     "data": {
      "text/plain": [
       "Perceptron(alpha=0.0001, class_weight=None, early_stopping=False, eta0=0.1,\n",
       "           fit_intercept=True, max_iter=10, n_iter_no_change=5, n_jobs=None,\n",
       "           penalty=None, random_state=0, shuffle=True, tol=0.001,\n",
       "           validation_fraction=0.1, verbose=0, warm_start=False)"
      ]
     },
     "execution_count": 5,
     "metadata": {},
     "output_type": "execute_result"
    }
   ],
   "source": [
    "# エポック数40, 学習率0.1のパーセプトロンモデルを作成\n",
    "# エポック毎にトレーニングデータセットを並べ替える\n",
    "ppn = Perceptron(max_iter = 10, eta0 = 0.1, random_state = 0, shuffle = True)\n",
    "# モデルのトレーニング\n",
    "ppn.fit(X_train_std, y_train)"
   ]
  },
  {
   "cell_type": "markdown",
   "metadata": {},
   "source": [
    "### 4. モデル性能の評価\n",
    "トレーニングしたモデルを使ってテストデータセットについて予測を行う。"
   ]
  },
  {
   "cell_type": "code",
   "execution_count": 6,
   "metadata": {},
   "outputs": [
    {
     "name": "stdout",
     "output_type": "stream",
     "text": [
      "Misclassified samples: 5\n",
      "Accuracy: 88.9%\n"
     ]
    }
   ],
   "source": [
    "# 予測を実施\n",
    "y_pred = ppn.predict(X_test_std)\n",
    "\n",
    "# 誤分類数と正解率を表示\n",
    "print('Misclassified samples: %d' % (y_test != y_pred).sum())\n",
    "\n",
    "print(\"Accuracy: {:2.1%}\".format(accuracy_score(y_test, y_pred)))  # sklearn.metrics.accuracy_scoreを用いて計算"
   ]
  },
  {
   "cell_type": "code",
   "execution_count": 7,
   "metadata": {
    "scrolled": false
   },
   "outputs": [
    {
     "data": {
      "text/plain": [
       "<matplotlib.legend.Legend at 0x11787f278>"
      ]
     },
     "execution_count": 7,
     "metadata": {},
     "output_type": "execute_result"
    },
    {
     "data": {
      "image/png": "[encoded data removed]",
      "text/plain": [
       "<Figure size 576x576 with 1 Axes>"
      ]
     },
     "metadata": {
      "needs_background": "light"
     },
     "output_type": "display_data"
    }
   ],
   "source": [
    "# トレーニングデータとテストデータを結合させる\n",
    "X_combined_std = np.vstack((X_train_std, X_test_std))\n",
    "y_combined = np.hstack((y_train, y_test))\n",
    "# 決定領域のプロット\n",
    "plt.figure(figsize = (8, 8))\n",
    "plot_decision_regions(X = X_combined_std, y = y_combined, classifier = ppn, test_idx = range(105, 150))\n",
    "plt.xlabel('petal length [standardized]')\n",
    "plt.ylabel('petal width [standardized]')\n",
    "plt.legend(loc = 'upper left')"
   ]
  },
  {
   "cell_type": "markdown",
   "metadata": {},
   "source": [
    "上図からわかるように決定境界を完全に決定することはできない。\n",
    "完全な線形分離ができない場合、パーセプトロン分類器は収束しないため、実務では推奨されない。"
   ]
  },
  {
   "cell_type": "markdown",
   "metadata": {},
   "source": [
    "## 2. ロジスティック回帰を用いたクラス分類モデル"
   ]
  },
  {
   "cell_type": "markdown",
   "metadata": {},
   "source": [
    "### 1. ロジスティック回帰の概念"
   ]
  },
  {
   "cell_type": "markdown",
   "metadata": {},
   "source": [
    "パーセプトロン分類器はクラスを完全に分離できない時には収束しない。なぜなら各エポックで少なくとも１つは誤って分類されるため、重みの更新が常に行われてしまうからである。\n",
    "ロジスティック回帰は線形分離問題と二値分類問題に対する単純で強力なアルゴリズムであり、産業界で最も広く利用されている。二値分類のためのアルゴリズムを一対他手法に基づいて多クラス分類モデルへと拡張することができる。"
   ]
  },
  {
   "cell_type": "markdown",
   "metadata": {},
   "source": [
    "以下では二値分類問題に関するロジスティック回帰モデルについて考える。\n",
    "事象の起こりやすさを表す**オッズ比**はある事象が起こる確率を$p$として$\\frac{p}{1-p}$と書くことができる。この事象についてクラスラベルを$y = 1$とすると以下のような**ロジット**(logit)関数を定義できる。"
   ]
  },
  {
   "cell_type": "markdown",
   "metadata": {},
   "source": [
    "$$\n",
    "logit(p) = \\log{\\frac{p}{1-p}}\n",
    "$$"
   ]
  },
  {
   "cell_type": "markdown",
   "metadata": {},
   "source": [
    "$logit(p)$は$0 \\leq p \\leq 1$なる$p$を受け取り実数を返す。この関数を使って特徴量と対数オッズの間の線形関係を表すことができる。"
   ]
  },
  {
   "cell_type": "markdown",
   "metadata": {},
   "source": [
    "$$\n",
    "logit(P(y = 1\\mid\\boldsymbol{x})) = w_{0}x_{0} + w_{1}x_{1} + \\cdots + w_{m}x_{m} = \\sum_{i=0}^{m}w_{i}x_{i} = \\boldsymbol{w^{T}x}\n",
    "$$"
   ]
  },
  {
   "cell_type": "markdown",
   "metadata": {},
   "source": [
    "ここで$P(y = 1\\mid\\boldsymbol{x})$は$\\boldsymbol{x}$が与えられた時にサンプルがクラス1に属する条件付き確率である。\n",
    "実際にはサンプルが特定のクラスに属している確率を予測したいのでロジット関数の逆関数$\\phi(\\zeta)$を用いる。これは**ロジスティック**(logistic)関数と呼ばれる。特徴的なS字の概形から**シグモイド**(sigmoid)関数と呼ばれることもある。"
   ]
  },
  {
   "cell_type": "markdown",
   "metadata": {},
   "source": [
    "$$\n",
    "\\phi(\\zeta) = \\frac{1}{1+e^{-\\zeta}}\n",
    "$$"
   ]
  },
  {
   "cell_type": "markdown",
   "metadata": {},
   "source": [
    "$\\zeta$は総入力で下式のような重みと特徴量の線型結合である。"
   ]
  },
  {
   "cell_type": "markdown",
   "metadata": {},
   "source": [
    "$$\n",
    "\\zeta = \\boldsymbol{w^{T}x} = w_{0} + w_{1}x_{1} + \\cdots + w_{m}x_{m}\n",
    "$$"
   ]
  },
  {
   "cell_type": "markdown",
   "metadata": {},
   "source": [
    "下のコードでシグモイド関数`sigmoid(z)`を定義し、プロットしてみる。"
   ]
  },
  {
   "cell_type": "code",
   "execution_count": 8,
   "metadata": {
    "scrolled": false
   },
   "outputs": [
    {
     "data": {
      "image/png": "[encoded data removed]",
      "text/plain": [
       "<Figure size 432x288 with 1 Axes>"
      ]
     },
     "metadata": {
      "needs_background": "light"
     },
     "output_type": "display_data"
    }
   ],
   "source": [
    "def sigmoid(z):\n",
    "    return 1.0 / (1.0 + np.exp(-z))\n",
    "\n",
    "# -7 ~ 7の範囲を0.1刻みで計算して描画\n",
    "z = np.arange(-7, 7, 0.1)\n",
    "phi_z = sigmoid(z)\n",
    "plt.plot(z, phi_z)\n",
    "plt.axvline(0.0, color = 'k')\n",
    "plt.ylim(-0.1, 1.1)\n",
    "plt.xlabel('$\\zeta$')\n",
    "plt.ylabel('$\\phi (\\zeta)$')\n",
    "plt.yticks([0.0, 0.5, 1.0])\n",
    "ax = plt.gca()\n",
    "ax.yaxis.grid(True)"
   ]
  },
  {
   "cell_type": "markdown",
   "metadata": {},
   "source": [
    "上図からわかるようにシグモイド関数は実数値$\\zeta$を$\\phi(\\zeta) = 0.5$を切片とする$[0, 1]$の範囲の値に変換する。\n",
    "ADALINE分類器の活性化関数は$\\phi(\\zeta) = \\zeta$の恒等関数であったが、ロジスティック回帰モデルではこれがシグモイド関数になる。\n",
    "特徴量$\\boldsymbol{x}$が重み$\\boldsymbol{w}$でパラメータ化されるとすると、シグモイド関数の出力$\\phi(\\zeta)$はサンプルがクラス1にする条件付き確率$P(y = 1\\mid\\boldsymbol{x};\\boldsymbol{w})$であると解釈できる。例えば$\\phi(\\zeta) = 0.8$の時、このサンプルがクラス1に属する確率が0.8であることを意味している。従って分類器の出力にするためには以下の量子化器を使って変換すれば良い。"
   ]
  },
  {
   "cell_type": "markdown",
   "metadata": {},
   "source": [
    "$$\n",
    "\\hat{y} = \\begin{cases}\n",
    "1 \\quad \\phi(\\zeta) \\geq 0.5 \\\\\n",
    "0 \\quad \\phi(\\zeta) < 0.5 \\\\\n",
    "\\end{cases}\n",
    "$$"
   ]
  },
  {
   "cell_type": "markdown",
   "metadata": {},
   "source": [
    "上図と合わせるとこれは以下と等価であるとわかる。"
   ]
  },
  {
   "cell_type": "markdown",
   "metadata": {},
   "source": [
    "$$\n",
    "\\hat{y} = \\begin{cases}\n",
    "1 \\quad \\zeta \\geq 0.0 \\\\\n",
    "0 \\quad \\zeta < 0.5 \\\\\n",
    "\\end{cases}\n",
    "$$"
   ]
  },
  {
   "cell_type": "markdown",
   "metadata": {},
   "source": [
    "ロジスティック回帰では各サンプルのクラス所属関係の確率を見積もることができるため、広く使用されている。"
   ]
  },
  {
   "cell_type": "markdown",
   "metadata": {},
   "source": [
    "### 2. ロジスティック関数の重みの学習\n",
    "ADALINEの重み$\\boldsymbol{w}$の最適化には下式で表される誤差平方和(SSE)を最小化した。"
   ]
  },
  {
   "cell_type": "markdown",
   "metadata": {},
   "source": [
    "$$\n",
    "J(\\boldsymbol{w}) = \\sum_{i}\\frac{1}{2}(\\phi(\\zeta^{(i)}) - y^{(i)})^{2}\n",
    "$$"
   ]
  },
  {
   "cell_type": "markdown",
   "metadata": {},
   "source": [
    "データセットの各サンプルが互いに独立であると仮定して、ロジスティック回帰のコスト関数を導出する。ロジスティック回帰においては尤度$L$(結果から見た条件のもっともらしさ)を最大化することが目的となる。この尤度は下式で定義される。"
   ]
  },
  {
   "cell_type": "markdown",
   "metadata": {},
   "source": [
    "$$\n",
    "L(\\boldsymbol{w}) = P(\\boldsymbol{y} \\mid \\boldsymbol{x};\\boldsymbol{w}) = \\prod_{i=1}^{n}P(y^{(i)} \\mid x^{(i)}; \\boldsymbol{w}) = \\prod_{i=1}^{n}(\\phi(\\zeta^{(i)}))^{y^{(i)}}(1 - \\phi(\\zeta^{(i)}))^{1-y^{(i)}}\n",
    "$$"
   ]
  },
  {
   "cell_type": "markdown",
   "metadata": {},
   "source": [
    "尤度のアンダーフロー可能性を減らし、微分をしやすくするために尤度の対数を取り、この対数尤度関数を最大化することでモデルをトレーニングする。"
   ]
  },
  {
   "cell_type": "markdown",
   "metadata": {},
   "source": [
    "$$\n",
    "l(\\boldsymbol{w}) = \\log{L(\\boldsymbol{w})} = \\sum_{i = 1}^{n} [y^{(i)} \\log{(\\phi(\\zeta^{(i)}))} + (1 - y^{(i)})\\log{(1 - \\phi(\\zeta^{(i)}}))]\n",
    "$$"
   ]
  },
  {
   "cell_type": "markdown",
   "metadata": {},
   "source": [
    "勾配上昇法を使って対数尤度関数$l(\\boldsymbol)$を最大化しても良いが、対数尤度関数をコスト関数$J$として書き直し、ADALINE分類器で用いた勾配降下法を使って最小化できるようにする。"
   ]
  },
  {
   "cell_type": "markdown",
   "metadata": {},
   "source": [
    "$$\n",
    "J(\\boldsymbol{w}) = \\sum_{i = 1}^{n} [-y^{(i)} \\log{(\\phi(\\zeta^{(i)}))} - (1 - y^{(i)})\\log{(1 - \\phi(\\zeta^{(i)}}))]\n",
    "$$"
   ]
  },
  {
   "cell_type": "markdown",
   "metadata": {},
   "source": [
    "実際の分類において１つのサンプルで計算されるコストは以下のように表される。"
   ]
  },
  {
   "cell_type": "markdown",
   "metadata": {},
   "source": [
    "$$\n",
    "J(\\phi(\\zeta), y; \\boldsymbol{w}) = \\begin{cases}\n",
    "-\\log{(\\phi(\\zeta))} \\quad (y = 1) \\\\\n",
    "-\\log{(1 - \\phi(\\zeta))} \\quad (y = 0) \\\\\n",
    "\\end{cases}\n",
    "$$"
   ]
  },
  {
   "cell_type": "markdown",
   "metadata": {},
   "source": [
    "以下のグラフは様々な$\\phi(\\zeta)$の値に対する分類コストを示している。"
   ]
  },
  {
   "cell_type": "code",
   "execution_count": 9,
   "metadata": {},
   "outputs": [
    {
     "data": {
      "text/plain": [
       "<matplotlib.legend.Legend at 0x11793f400>"
      ]
     },
     "execution_count": 9,
     "metadata": {},
     "output_type": "execute_result"
    },
    {
     "data": {
      "image/png": "[encoded data removed]",
      "text/plain": [
       "<Figure size 432x288 with 1 Axes>"
      ]
     },
     "metadata": {
      "needs_background": "light"
     },
     "output_type": "display_data"
    }
   ],
   "source": [
    "def likelihood_cost(phi_z, y):\n",
    "    if y == 1:\n",
    "        return -np.log(phi_z)\n",
    "    else:\n",
    "        return -np.log(1 - phi_z)\n",
    "\n",
    "phi_z = np.arange(0.001, 1.0, 0.001)\n",
    "cost_z1 = likelihood_cost(phi_z, 1)\n",
    "cost_z0 = likelihood_cost(phi_z, 0)\n",
    "\n",
    "plt.plot(phi_z, cost_z1, label = '$J(w)$ if $y = 1$')\n",
    "plt.plot(phi_z, cost_z0, linestyle = 'dashdot', label = '$J(w)$ if $y = 0$')\n",
    "plt.xlabel('$\\phi(\\zeta)$')\n",
    "plt.ylabel('$J(w)$')\n",
    "plt.xlim(0.0, 1.0)\n",
    "plt.ylim(-0.1, 5.1)\n",
    "plt.legend(loc = 'upper center')"
   ]
  },
  {
   "cell_type": "markdown",
   "metadata": {},
   "source": [
    "上図からクラスへの所属確率の予測精度が高いほどコスト関数は0に近づくことがわかる。"
   ]
  },
  {
   "cell_type": "markdown",
   "metadata": {},
   "source": [
    "### 3. scikit-learnを用いたロジスティック回帰モデルのトレーニング\n",
    "`sklearn.liner_model.LogisticRegression`クラスと`fit`メソッドを使って標準化されたトレーニングデータでロジスティック回帰モデルをトレーニングする。"
   ]
  },
  {
   "cell_type": "code",
   "execution_count": 10,
   "metadata": {},
   "outputs": [
    {
     "data": {
      "text/plain": [
       "<matplotlib.legend.Legend at 0x11795f470>"
      ]
     },
     "execution_count": 10,
     "metadata": {},
     "output_type": "execute_result"
    },
    {
     "data": {
      "image/png": "[encoded data removed]",
      "text/plain": [
       "<Figure size 432x288 with 1 Axes>"
      ]
     },
     "metadata": {
      "needs_background": "light"
     },
     "output_type": "display_data"
    }
   ],
   "source": [
    "# ロジスティック回帰モデルのインスタンスを作成\n",
    "lr = LogisticRegression(C = 1000.0, random_state = 1, multi_class = 'auto', solver = 'lbfgs')\n",
    "# トレーニングデータにフィッティングさせる\n",
    "lr.fit(X_train_std, y_train)\n",
    "# 決定境界をプロット\n",
    "plot_decision_regions(X_combined_std, y_combined, classifier = lr, test_idx = range(105, 150))\n",
    "plt.xlabel('petal length [standardized]')\n",
    "plt.ylabel('petal width [standardized]')\n",
    "plt.legend(loc = 'upper left')"
   ]
  },
  {
   "cell_type": "code",
   "execution_count": 11,
   "metadata": {},
   "outputs": [
    {
     "name": "stdout",
     "output_type": "stream",
     "text": [
      "Misclassified samples: 2\n",
      "Accuracy: 95.6%\n"
     ]
    }
   ],
   "source": [
    "# 予測を実施\n",
    "y_pred = lr.predict(X_test_std)\n",
    "# 誤分類数と正解率を表示\n",
    "print('Misclassified samples: %d' % (y_test != y_pred).sum())\n",
    "\n",
    "print(\"Accuracy: {:2.1%}\".format(accuracy_score(y_test, y_pred)))  # sklearn.metrics.accuracy_scoreを用いて計算"
   ]
  },
  {
   "cell_type": "markdown",
   "metadata": {},
   "source": [
    "`predict_proba`メソッドを使ってサンプルの所属確率を予測することもできる。"
   ]
  },
  {
   "cell_type": "code",
   "execution_count": 12,
   "metadata": {},
   "outputs": [
    {
     "data": {
      "text/plain": [
       "array([[9.99982472e-01, 1.75283697e-05, 2.36280589e-21],\n",
       "       [6.81902266e-03, 9.93180891e-01, 8.60039307e-08],\n",
       "       [5.61542961e-07, 9.94807877e-01, 5.19156139e-03]])"
      ]
     },
     "execution_count": 12,
     "metadata": {},
     "output_type": "execute_result"
    }
   ],
   "source": [
    "lr.predict_proba(X_test_std[:3, :])"
   ]
  },
  {
   "cell_type": "markdown",
   "metadata": {},
   "source": [
    "１つ目のサンプルがIris-Setosaに所属している確率が99.998%であると予測したことがわかる。"
   ]
  },
  {
   "cell_type": "markdown",
   "metadata": {},
   "source": [
    "勾配降下法に基づくロジスティック回帰モデルの重みの更新はADALINEで使用した式と同等である。\n",
    "以下のようにしてこれを示す。\n",
    "対数尤度関数を重みで偏微分すると以下のようになる。"
   ]
  },
  {
   "cell_type": "markdown",
   "metadata": {},
   "source": [
    "$$\n",
    "\\frac{\\partial}{\\partial w_{j}} l(\\boldsymbol{w}) = \\left( y\\frac{1}{\\phi(\\zeta)} - (1 - y)\\frac{1}{1 - \\phi(\\zeta)}\\right) \\frac{\\partial}{\\partial w_{j}} \\phi(\\zeta)\n",
    "$$"
   ]
  },
  {
   "cell_type": "markdown",
   "metadata": {},
   "source": [
    "ここでロジスティック関数の偏導関数は下式なのでこれを代入して"
   ]
  },
  {
   "cell_type": "markdown",
   "metadata": {},
   "source": [
    "$$\n",
    "\\frac{\\partial}{\\partial \\zeta}\\phi(\\zeta) = \\frac{\\partial}{\\partial \\zeta}\\frac{1}{1 + e^{-\\zeta}} = \\frac{1}{(1 + e^{-\\zeta})^2}e^{-\\zeta} = \\frac{1}{1 + e^{-\\zeta}}\\left(1 - \\frac{1}{1 + e^{-\\zeta}}\\right) = \\phi(\\zeta)(1 - \\phi(\\zeta))\n",
    "$$"
   ]
  },
  {
   "cell_type": "markdown",
   "metadata": {},
   "source": [
    "$$\n",
    "\\begin{split}\n",
    "\\left(y\\frac{1}{\\phi(\\zeta)} - (1 - y)\\frac{1}{1 - \\phi(\\zeta)}\\right)\\frac{\\partial}{\\partial w_{j}} \\phi(\\zeta) & = \\left(y\\frac{1}{\\phi(\\zeta)} - (1 - y)\\frac{1}{1 - \\phi(\\zeta)}\\right)\\phi(\\zeta)(1 - \\phi(\\zeta))\\frac{\\partial}{\\partial w_{j}}\\zeta \\\\\n",
    "& = \\left(y(1 - \\phi(\\zeta))-(1-y)\\phi(\\zeta)\\right)x_{j} \\\\\n",
    "& = (y - \\phi(\\zeta))x_{j} \\\\\n",
    "\\end{split}\n",
    "$$"
   ]
  },
  {
   "cell_type": "markdown",
   "metadata": {},
   "source": [
    "重み更新の一般式は以下のように表せる。ここで重みの更新量$\\Delta\\boldsymbol{w}$は$\\Delta\\boldsymbol{w} = \\eta \\nabla l(\\boldsymbol{w})$である。"
   ]
  },
  {
   "cell_type": "markdown",
   "metadata": {},
   "source": [
    "$$\n",
    "\\boldsymbol{w} := \\boldsymbol{w} + \\Delta\\boldsymbol{w}\n",
    "$$"
   ]
  },
  {
   "cell_type": "markdown",
   "metadata": {},
   "source": [
    "対数尤度の最大化はコスト関数$J(\\boldsymbol{w})$の最小化であるので、勾配降下法の更新規則は下式で表され、ADALINEの更新規則と一致する。"
   ]
  },
  {
   "cell_type": "markdown",
   "metadata": {},
   "source": [
    "$$\n",
    "\\Delta w_{j} := -\\eta \\frac{\\partial J}{\\partial w_{j}} = \\eta \\sum_{i = 1}{n}\\left(y^{(i)} - \\phi(\\zeta^{(i)})\\right)x^{(i)}_{j}\n",
    "$$"
   ]
  },
  {
   "cell_type": "markdown",
   "metadata": {},
   "source": [
    "$$\n",
    "\\boldsymbol{w} := \\boldsymbol{w} + \\Delta \\boldsymbol{w}, \\Delta \\boldsymbol{w} = - \\eta \\nabla J(\\boldsymbol{w})\n",
    "$$"
   ]
  },
  {
   "cell_type": "markdown",
   "metadata": {},
   "source": [
    "### 4. 正則化による過学習への対処\n",
    "**過学習**が起こると未知のデータについての予測が十分に行えない。過学習が発生しているモデルはバリアンスが高い(high variance)と呼ばれる。逆にトレーニングデータセットのパターンを捕捉するにはモデルの複雑さが十分でなく。未知データに対する性能が低くなることを**学習不足**という。このようなモデルはバイアスが高い(high bias)とも呼ばれる。\n",
    "過学習や学習不足の問題は非線形の決定境界を求めるときによく現れる。\n",
    "バリアンスはモデルのトレーニングを繰り返した際のモデルの予測の一貫性を表し、トレーニングデータのランダム性への敏感さを示す。また、バイアスはモデルを異なるトレーニングデータで構築した際に予測が正しい値からどの程度外れているかを表す。バイアスはランダム性によるものではなく、系統誤差の計測値である。\n",
    "一般にモデルの汎化誤差は以下の式で表される。"
   ]
  },
  {
   "cell_type": "markdown",
   "metadata": {},
   "source": [
    "$$\n",
    "モデルの汎化誤差 = (バイアス)^{2} + バリアンス　+ ノイズ\n",
    "$$"
   ]
  },
  {
   "cell_type": "markdown",
   "metadata": {},
   "source": [
    "モデルの複雑さを調整する方法の１つとして**正則化**によってデータからノイズを取り除き、過学習を防ぐ方法がある。\n",
    "正則化は特徴量の間の相関の高さである**共線性**を処理する非常に便利な手法であり、極端なパラメータの重みにペナルティを課すための追加情報(バイアス)を導入するものである。"
   ]
  },
  {
   "cell_type": "markdown",
   "metadata": {},
   "source": [
    "最も一般的な正則化として**L2正則化**があり、次のように記述できる。"
   ]
  },
  {
   "cell_type": "markdown",
   "metadata": {},
   "source": [
    "$$\n",
    "\\frac{\\lambda}{2} \\| \\boldsymbol{w} \\|^{2} = \\frac{\\lambda}{2} \\sum_{j = 1}^{m} w_{j}^{2}\n",
    "$$"
   ]
  },
  {
   "cell_type": "markdown",
   "metadata": {},
   "source": [
    "正則化パラメータ$\\lambda$は正則化パラメータであり、正則化の度合いを決定する。$\\lambda$を大きくすると正則化の強さが高まる。\n",
    "正則化を適用するには前述のコスト関数$J(\\boldsymbol{w})$に正則化項を追加すればよく、以下の形のコスト関数となる。"
   ]
  },
  {
   "cell_type": "markdown",
   "metadata": {},
   "source": [
    "$$\n",
    "J(\\boldsymbol{w}) = \\sum_{i = 1}^{n} [-y^{(i)} \\log{(\\phi(\\zeta^{(i)}))} - (1 - y^{(i)})\\log{(1 - \\phi(\\zeta^{(i)}}))] + \\frac{\\lambda}{2} \\| \\boldsymbol{w} \\|^{2}\n",
    "$$"
   ]
  },
  {
   "cell_type": "markdown",
   "metadata": {},
   "source": [
    "scikit-learnの`LogisticRegression`クラスに実装されているパラメータ`C`はサポートベクトルマシンの慣例に由来し、正則化パラメータの逆数を表す。\n",
    "したがってコスト関数は下記のようになり、逆正則化パラメータ`C`の値を減らすことが正則化の強さを高めることとなる。正則化の強さを可視化するには2つの重み係数と逆正則化パラメータの関係をプロットすれば良い。"
   ]
  },
  {
   "cell_type": "markdown",
   "metadata": {},
   "source": [
    "$$\n",
    "J(\\boldsymbol{w}) = C \\sum_{i = 1}^{n} [-y^{(i)} \\log{(\\phi(\\zeta^{(i)}))} - (1 - y^{(i)})\\log{(1 - \\phi(\\zeta^{(i)}}))] + \\frac{1}{2} \\| \\boldsymbol{w} \\|^{2}\n",
    "$$"
   ]
  },
  {
   "cell_type": "code",
   "execution_count": 15,
   "metadata": {},
   "outputs": [
    {
     "data": {
      "image/png": "[encoded data removed]",
      "text/plain": [
       "<Figure size 432x288 with 1 Axes>"
      ]
     },
     "metadata": {
      "needs_background": "light"
     },
     "output_type": "display_data"
    }
   ],
   "source": [
    "weights, params = [], []  # 重み、逆正則化パラメータを格納するリスト\n",
    "# Cを10通りで試行し、ロジスティック回帰モデルをトレーニング\n",
    "for c in np.arange(-5, 5):\n",
    "    lr = LogisticRegression(C = 10.**c, random_state = 0, solver = 'lbfgs', multi_class = 'auto')\n",
    "    lr.fit(X_train_std, y_train)\n",
    "    weights.append(lr.coef_[1])\n",
    "    params.append(10.**c)\n",
    "weights = np.array(weights)\n",
    "\n",
    "# 横軸に逆正則化パラメータ、縦軸に重み係数をプロット\n",
    "plt.plot(params, weights[:, 0], label = 'petal length')\n",
    "plt.plot(params, weights[:, 1], linestyle = '--', label = 'petal width')\n",
    "plt.ylabel('weight coefficient')\n",
    "plt.xlabel('C')\n",
    "plt.legend(loc = 'upper left')\n",
    "plt.xscale('log')"
   ]
  },
  {
   "cell_type": "code",
   "execution_count": null,
   "metadata": {},
   "outputs": [],
   "source": []
  }
 ],
 "metadata": {
  "kernelspec": {
   "display_name": "Python 3",
   "language": "python",
   "name": "python3"
  },
  "language_info": {
   "codemirror_mode": {
    "name": "ipython",
    "version": 3
   },
   "file_extension": ".py",
   "mimetype": "text/x-python",
   "name": "python",
   "nbconvert_exporter": "python",
   "pygments_lexer": "ipython3",
   "version": "3.7.3"
  }
 },
 "nbformat": 4,
 "nbformat_minor": 2
}
